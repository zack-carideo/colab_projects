{
 "cells": [
  {
   "cell_type": "markdown",
   "metadata": {
    "id": "GoAgj6L0J_HY"
   },
   "source": [
    "### LangSmith Walkthrough\n",
    "\n",
    "#### Resources\n",
    "- [langsmith cookbook](https://github.com/langchain-ai/langsmith-cookbook/blob/main/tracing-examples/traceable/tracing_without_langchain.ipynb)"
   ]
  },
  {
   "cell_type": "code",
   "execution_count": null,
   "metadata": {
    "colab": {
     "base_uri": "https://localhost:8080/"
    },
    "id": "-n8HafTN94ew",
    "outputId": "699de298-0580-43b1-cc39-bde877401062"
   },
   "outputs": [
    {
     "name": "stdout",
     "output_type": "stream",
     "text": [
      "Requirement already satisfied: langsmith in /usr/local/lib/python3.11/dist-packages (0.2.10)\n",
      "Requirement already satisfied: langchain in /usr/local/lib/python3.11/dist-packages (0.3.14)\n",
      "Collecting anthropic\n",
      "  Downloading anthropic-0.43.1-py3-none-any.whl.metadata (23 kB)\n",
      "Requirement already satisfied: httpx<1,>=0.23.0 in /usr/local/lib/python3.11/dist-packages (from langsmith) (0.28.1)\n",
      "Requirement already satisfied: orjson<4.0.0,>=3.9.14 in /usr/local/lib/python3.11/dist-packages (from langsmith) (3.10.14)\n",
      "Requirement already satisfied: pydantic<3,>=1 in /usr/local/lib/python3.11/dist-packages (from langsmith) (2.10.5)\n",
      "Requirement already satisfied: requests<3,>=2 in /usr/local/lib/python3.11/dist-packages (from langsmith) (2.32.3)\n",
      "Requirement already satisfied: requests-toolbelt<2.0.0,>=1.0.0 in /usr/local/lib/python3.11/dist-packages (from langsmith) (1.0.0)\n",
      "Requirement already satisfied: PyYAML>=5.3 in /usr/local/lib/python3.11/dist-packages (from langchain) (6.0.2)\n",
      "Requirement already satisfied: SQLAlchemy<3,>=1.4 in /usr/local/lib/python3.11/dist-packages (from langchain) (2.0.37)\n",
      "Requirement already satisfied: aiohttp<4.0.0,>=3.8.3 in /usr/local/lib/python3.11/dist-packages (from langchain) (3.11.11)\n",
      "Requirement already satisfied: langchain-core<0.4.0,>=0.3.29 in /usr/local/lib/python3.11/dist-packages (from langchain) (0.3.29)\n",
      "Requirement already satisfied: langchain-text-splitters<0.4.0,>=0.3.3 in /usr/local/lib/python3.11/dist-packages (from langchain) (0.3.5)\n",
      "Requirement already satisfied: numpy<2,>=1.22.4 in /usr/local/lib/python3.11/dist-packages (from langchain) (1.26.4)\n",
      "Requirement already satisfied: tenacity!=8.4.0,<10,>=8.1.0 in /usr/local/lib/python3.11/dist-packages (from langchain) (9.0.0)\n",
      "Requirement already satisfied: anyio<5,>=3.5.0 in /usr/local/lib/python3.11/dist-packages (from anthropic) (3.7.1)\n",
      "Requirement already satisfied: distro<2,>=1.7.0 in /usr/local/lib/python3.11/dist-packages (from anthropic) (1.9.0)\n",
      "Requirement already satisfied: jiter<1,>=0.4.0 in /usr/local/lib/python3.11/dist-packages (from anthropic) (0.8.2)\n",
      "Requirement already satisfied: sniffio in /usr/local/lib/python3.11/dist-packages (from anthropic) (1.3.1)\n",
      "Requirement already satisfied: typing-extensions<5,>=4.10 in /usr/local/lib/python3.11/dist-packages (from anthropic) (4.12.2)\n",
      "Requirement already satisfied: aiohappyeyeballs>=2.3.0 in /usr/local/lib/python3.11/dist-packages (from aiohttp<4.0.0,>=3.8.3->langchain) (2.4.4)\n",
      "Requirement already satisfied: aiosignal>=1.1.2 in /usr/local/lib/python3.11/dist-packages (from aiohttp<4.0.0,>=3.8.3->langchain) (1.3.2)\n",
      "Requirement already satisfied: attrs>=17.3.0 in /usr/local/lib/python3.11/dist-packages (from aiohttp<4.0.0,>=3.8.3->langchain) (24.3.0)\n",
      "Requirement already satisfied: frozenlist>=1.1.1 in /usr/local/lib/python3.11/dist-packages (from aiohttp<4.0.0,>=3.8.3->langchain) (1.5.0)\n",
      "Requirement already satisfied: multidict<7.0,>=4.5 in /usr/local/lib/python3.11/dist-packages (from aiohttp<4.0.0,>=3.8.3->langchain) (6.1.0)\n",
      "Requirement already satisfied: propcache>=0.2.0 in /usr/local/lib/python3.11/dist-packages (from aiohttp<4.0.0,>=3.8.3->langchain) (0.2.1)\n",
      "Requirement already satisfied: yarl<2.0,>=1.17.0 in /usr/local/lib/python3.11/dist-packages (from aiohttp<4.0.0,>=3.8.3->langchain) (1.18.3)\n",
      "Requirement already satisfied: idna>=2.8 in /usr/local/lib/python3.11/dist-packages (from anyio<5,>=3.5.0->anthropic) (3.10)\n",
      "Requirement already satisfied: certifi in /usr/local/lib/python3.11/dist-packages (from httpx<1,>=0.23.0->langsmith) (2024.12.14)\n",
      "Requirement already satisfied: httpcore==1.* in /usr/local/lib/python3.11/dist-packages (from httpx<1,>=0.23.0->langsmith) (1.0.7)\n",
      "Requirement already satisfied: h11<0.15,>=0.13 in /usr/local/lib/python3.11/dist-packages (from httpcore==1.*->httpx<1,>=0.23.0->langsmith) (0.14.0)\n",
      "Requirement already satisfied: jsonpatch<2.0,>=1.33 in /usr/local/lib/python3.11/dist-packages (from langchain-core<0.4.0,>=0.3.29->langchain) (1.33)\n",
      "Requirement already satisfied: packaging<25,>=23.2 in /usr/local/lib/python3.11/dist-packages (from langchain-core<0.4.0,>=0.3.29->langchain) (24.2)\n",
      "Requirement already satisfied: annotated-types>=0.6.0 in /usr/local/lib/python3.11/dist-packages (from pydantic<3,>=1->langsmith) (0.7.0)\n",
      "Requirement already satisfied: pydantic-core==2.27.2 in /usr/local/lib/python3.11/dist-packages (from pydantic<3,>=1->langsmith) (2.27.2)\n",
      "Requirement already satisfied: charset-normalizer<4,>=2 in /usr/local/lib/python3.11/dist-packages (from requests<3,>=2->langsmith) (3.4.1)\n",
      "Requirement already satisfied: urllib3<3,>=1.21.1 in /usr/local/lib/python3.11/dist-packages (from requests<3,>=2->langsmith) (2.3.0)\n",
      "Requirement already satisfied: greenlet!=0.4.17 in /usr/local/lib/python3.11/dist-packages (from SQLAlchemy<3,>=1.4->langchain) (3.1.1)\n",
      "Requirement already satisfied: jsonpointer>=1.9 in /usr/local/lib/python3.11/dist-packages (from jsonpatch<2.0,>=1.33->langchain-core<0.4.0,>=0.3.29->langchain) (3.0.0)\n",
      "Downloading anthropic-0.43.1-py3-none-any.whl (208 kB)\n",
      "\u001b[2K   \u001b[90m━━━━━━━━━━━━━━━━━━━━━━━━━━━━━━━━━━━━━━━━\u001b[0m \u001b[32m208.2/208.2 kB\u001b[0m \u001b[31m4.0 MB/s\u001b[0m eta \u001b[36m0:00:00\u001b[0m\n",
      "\u001b[?25hInstalling collected packages: anthropic\n",
      "Successfully installed anthropic-0.43.1\n"
     ]
    }
   ],
   "source": [
    "!pip install langsmith langchain anthropic"
   ]
  },
  {
   "cell_type": "code",
   "execution_count": null,
   "metadata": {
    "colab": {
     "base_uri": "https://localhost:8080/",
     "height": 350
    },
    "id": "LjvIHQPqDK8Y",
    "outputId": "041ce72b-f657-42bd-9372-34211873a0fb"
   },
   "outputs": [],
   "source": [
    "import langsmith, os, sys\n",
    "import anthropic as anthropic_base\n",
    "from langsmith import traceable\n",
    "from pathlib import Path \n",
    "\n",
    "_root = \"/home/zjc1002/Mounts/code/admin/\"\n",
    "\n",
    "\n",
    "sys.path.append(_root)\n",
    "from api_keys import _api_keys\n"
   ]
  },
  {
   "cell_type": "markdown",
   "metadata": {
    "id": "rQ3UCb0j_6m4"
   },
   "source": [
    "### Langsmith API Parameters"
   ]
  },
  {
   "cell_type": "code",
   "execution_count": 14,
   "metadata": {
    "id": "oImoFpdF_nV5"
   },
   "outputs": [],
   "source": [
    "!export LANGSMITH_TRACING_v2=true"
   ]
  },
  {
   "cell_type": "code",
   "execution_count": 13,
   "metadata": {
    "id": "zbjr820u_4Ry"
   },
   "outputs": [],
   "source": [
    "LANGSMITH_TRACING=True\n",
    "LANGSMITH_ENDPOINT='https://api.smith.langchain.com'\n",
    "LANGSMITH_PROJECT=\"LangSmith Basics\"\n",
    "\n",
    "LANGSMITH_API_KEY= _api_keys[\"LANGSMITH_API_KEY\"]\n",
    "ANTHROPIC_API_KEY=_api_keys['ANTHROPIC_API_KEY']\n",
    "ANTHROPIC_MODEL='claude-3-haiku-20240307'\n",
    "\n",
    "os.environ[\"LANGCHAIN_ENDPOINT\"] = LANGSMITH_ENDPOINT\n",
    "os.environ[\"LANGCHAIN_API_KEY\"] = LANGSMITH_API_KEY\n",
    "os.environ[\"LANGCHAIN_PROJECT\"] = LANGSMITH_PROJECT\n"
   ]
  },
  {
   "cell_type": "markdown",
   "metadata": {
    "id": "7aaZAsqMC5RJ"
   },
   "source": [
    "### Create LLM INSTANCE\n",
    "##### Note: I am using anthropic, but u should be able to use any model open source or not"
   ]
  },
  {
   "cell_type": "code",
   "execution_count": null,
   "metadata": {
    "colab": {
     "base_uri": "https://localhost:8080/"
    },
    "id": "zRl115O4DCIW",
    "outputId": "34cc9169-8b8f-4deb-df96-df74490501b4"
   },
   "outputs": [
    {
     "data": {
      "text/plain": [
       "<anthropic.resources.messages.messages.Messages at 0x7b913bd6cf90>"
      ]
     },
     "execution_count": 12,
     "metadata": {},
     "output_type": "execute_result"
    }
   ],
   "source": [
    "client = anthropic.Anthropic(api_key=ANTHROPIC_API_KEY)"
   ]
  },
  {
   "cell_type": "markdown",
   "metadata": {
    "id": "oAqW-bnNHN8B"
   },
   "source": [
    "#### Trace a basic function\n",
    "\n",
    "- **@traceable** decorator is ment to manage the logging of events from the client using a RunTree, which tracks your application. Each RunTree is required to have the below paramters\n",
    "   - **name:str**: used to id the components purpose\n",
    "   - **run_type:str**: 'llm','chain', or 'tool'. describes the type of interaction / activity being logged\n",
    "   - **inputs:dict**: the inputs to the component\n",
    "   - **outputs:Optional[dict]**: the (optinal) returned values from the component\n",
    "   - **error: Optional[str]**: any error messages that may have arisin during the call\n"
   ]
  },
  {
   "cell_type": "code",
   "execution_count": null,
   "metadata": {
    "colab": {
     "base_uri": "https://localhost:8080/"
    },
    "id": "oNROA_CrEWF3",
    "outputId": "f3a7bcf2-8eb8-4f06-8b95-cc1d237b729d"
   },
   "outputs": [
    {
     "data": {
      "text/plain": [
       "TextBlock(text=\"Hello! It's nice to meet you. As an AI language model, I'm here to assist you with any questions or tasks you may have. Please feel free to ask me anything, and I'll do my best to provide you with accurate and helpful information.\", type='text')"
      ]
     },
     "execution_count": 19,
     "metadata": {},
     "output_type": "execute_result"
    }
   ],
   "source": [
    "@traceable # Auto-trace this function\n",
    "def pipeline(client, user_input: str, model = None):\n",
    "\n",
    "    assert model is not None, \"Model must be specified, only ANTHROPIC models currently supported\"\n",
    "    result = client.messages.create(\n",
    "        model= model\n",
    "        , max_tokens = 1000\n",
    "        , messages=[{\"role\": \"user\", \"content\": user_input}],\n",
    "\n",
    "    )\n",
    "    return result.content[0]\n",
    "\n",
    "pipeline(client, \"Hello, world!\", model = ANTHROPIC_MODEL)"
   ]
  }
 ],
 "metadata": {
  "colab": {
   "provenance": []
  },
  "kernelspec": {
   "display_name": "langy2",
   "language": "python",
   "name": "python3"
  },
  "language_info": {
   "codemirror_mode": {
    "name": "ipython",
    "version": 3
   },
   "file_extension": ".py",
   "mimetype": "text/x-python",
   "name": "python",
   "nbconvert_exporter": "python",
   "pygments_lexer": "ipython3",
   "version": "3.10.12"
  }
 },
 "nbformat": 4,
 "nbformat_minor": 0
}
