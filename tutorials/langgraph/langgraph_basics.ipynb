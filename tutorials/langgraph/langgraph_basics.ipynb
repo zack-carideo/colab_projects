{
  "cells": [
    {
      "cell_type": "markdown",
      "metadata": {
        "id": "GrSnFi6EIy0A"
      },
      "source": [
        "### LangGraph Basics Overview"
      ]
    },
    {
      "cell_type": "code",
      "execution_count": 1,
      "metadata": {
        "colab": {
          "base_uri": "https://localhost:8080/"
        },
        "id": "JcPdNd5pIy0B",
        "outputId": "03143b65-7ee3-4e5b-8ae5-f6dce2ff77d7",
        "collapsed": true
      },
      "outputs": [
        {
          "output_type": "stream",
          "name": "stdout",
          "text": [
            "Requirement already satisfied: langgraph in /usr/local/lib/python3.11/dist-packages (0.2.66)\n",
            "Requirement already satisfied: langchain in /usr/local/lib/python3.11/dist-packages (0.3.14)\n",
            "Requirement already satisfied: anthropic in /usr/local/lib/python3.11/dist-packages (0.44.0)\n",
            "Requirement already satisfied: langchain-anthropic in /usr/local/lib/python3.11/dist-packages (0.3.3)\n",
            "Requirement already satisfied: langchain-core!=0.3.0,!=0.3.1,!=0.3.10,!=0.3.11,!=0.3.12,!=0.3.13,!=0.3.14,!=0.3.15,!=0.3.16,!=0.3.17,!=0.3.18,!=0.3.19,!=0.3.2,!=0.3.20,!=0.3.21,!=0.3.22,!=0.3.3,!=0.3.4,!=0.3.5,!=0.3.6,!=0.3.7,!=0.3.8,!=0.3.9,<0.4.0,>=0.2.43 in /usr/local/lib/python3.11/dist-packages (from langgraph) (0.3.31)\n",
            "Requirement already satisfied: langgraph-checkpoint<3.0.0,>=2.0.10 in /usr/local/lib/python3.11/dist-packages (from langgraph) (2.0.10)\n",
            "Requirement already satisfied: langgraph-sdk<0.2.0,>=0.1.42 in /usr/local/lib/python3.11/dist-packages (from langgraph) (0.1.51)\n",
            "Requirement already satisfied: PyYAML>=5.3 in /usr/local/lib/python3.11/dist-packages (from langchain) (6.0.2)\n",
            "Requirement already satisfied: SQLAlchemy<3,>=1.4 in /usr/local/lib/python3.11/dist-packages (from langchain) (2.0.37)\n",
            "Requirement already satisfied: aiohttp<4.0.0,>=3.8.3 in /usr/local/lib/python3.11/dist-packages (from langchain) (3.11.11)\n",
            "Requirement already satisfied: langchain-text-splitters<0.4.0,>=0.3.3 in /usr/local/lib/python3.11/dist-packages (from langchain) (0.3.5)\n",
            "Requirement already satisfied: langsmith<0.3,>=0.1.17 in /usr/local/lib/python3.11/dist-packages (from langchain) (0.2.10)\n",
            "Requirement already satisfied: numpy<2,>=1.22.4 in /usr/local/lib/python3.11/dist-packages (from langchain) (1.26.4)\n",
            "Requirement already satisfied: pydantic<3.0.0,>=2.7.4 in /usr/local/lib/python3.11/dist-packages (from langchain) (2.10.5)\n",
            "Requirement already satisfied: requests<3,>=2 in /usr/local/lib/python3.11/dist-packages (from langchain) (2.32.3)\n",
            "Requirement already satisfied: tenacity!=8.4.0,<10,>=8.1.0 in /usr/local/lib/python3.11/dist-packages (from langchain) (9.0.0)\n",
            "Requirement already satisfied: anyio<5,>=3.5.0 in /usr/local/lib/python3.11/dist-packages (from anthropic) (3.7.1)\n",
            "Requirement already satisfied: distro<2,>=1.7.0 in /usr/local/lib/python3.11/dist-packages (from anthropic) (1.9.0)\n",
            "Requirement already satisfied: httpx<1,>=0.23.0 in /usr/local/lib/python3.11/dist-packages (from anthropic) (0.28.1)\n",
            "Requirement already satisfied: jiter<1,>=0.4.0 in /usr/local/lib/python3.11/dist-packages (from anthropic) (0.8.2)\n",
            "Requirement already satisfied: sniffio in /usr/local/lib/python3.11/dist-packages (from anthropic) (1.3.1)\n",
            "Requirement already satisfied: typing-extensions<5,>=4.10 in /usr/local/lib/python3.11/dist-packages (from anthropic) (4.12.2)\n",
            "Requirement already satisfied: defusedxml<0.8.0,>=0.7.1 in /usr/local/lib/python3.11/dist-packages (from langchain-anthropic) (0.7.1)\n",
            "Requirement already satisfied: aiohappyeyeballs>=2.3.0 in /usr/local/lib/python3.11/dist-packages (from aiohttp<4.0.0,>=3.8.3->langchain) (2.4.4)\n",
            "Requirement already satisfied: aiosignal>=1.1.2 in /usr/local/lib/python3.11/dist-packages (from aiohttp<4.0.0,>=3.8.3->langchain) (1.3.2)\n",
            "Requirement already satisfied: attrs>=17.3.0 in /usr/local/lib/python3.11/dist-packages (from aiohttp<4.0.0,>=3.8.3->langchain) (24.3.0)\n",
            "Requirement already satisfied: frozenlist>=1.1.1 in /usr/local/lib/python3.11/dist-packages (from aiohttp<4.0.0,>=3.8.3->langchain) (1.5.0)\n",
            "Requirement already satisfied: multidict<7.0,>=4.5 in /usr/local/lib/python3.11/dist-packages (from aiohttp<4.0.0,>=3.8.3->langchain) (6.1.0)\n",
            "Requirement already satisfied: propcache>=0.2.0 in /usr/local/lib/python3.11/dist-packages (from aiohttp<4.0.0,>=3.8.3->langchain) (0.2.1)\n",
            "Requirement already satisfied: yarl<2.0,>=1.17.0 in /usr/local/lib/python3.11/dist-packages (from aiohttp<4.0.0,>=3.8.3->langchain) (1.18.3)\n",
            "Requirement already satisfied: idna>=2.8 in /usr/local/lib/python3.11/dist-packages (from anyio<5,>=3.5.0->anthropic) (3.10)\n",
            "Requirement already satisfied: certifi in /usr/local/lib/python3.11/dist-packages (from httpx<1,>=0.23.0->anthropic) (2024.12.14)\n",
            "Requirement already satisfied: httpcore==1.* in /usr/local/lib/python3.11/dist-packages (from httpx<1,>=0.23.0->anthropic) (1.0.7)\n",
            "Requirement already satisfied: h11<0.15,>=0.13 in /usr/local/lib/python3.11/dist-packages (from httpcore==1.*->httpx<1,>=0.23.0->anthropic) (0.14.0)\n",
            "Requirement already satisfied: jsonpatch<2.0,>=1.33 in /usr/local/lib/python3.11/dist-packages (from langchain-core!=0.3.0,!=0.3.1,!=0.3.10,!=0.3.11,!=0.3.12,!=0.3.13,!=0.3.14,!=0.3.15,!=0.3.16,!=0.3.17,!=0.3.18,!=0.3.19,!=0.3.2,!=0.3.20,!=0.3.21,!=0.3.22,!=0.3.3,!=0.3.4,!=0.3.5,!=0.3.6,!=0.3.7,!=0.3.8,!=0.3.9,<0.4.0,>=0.2.43->langgraph) (1.33)\n",
            "Requirement already satisfied: packaging<25,>=23.2 in /usr/local/lib/python3.11/dist-packages (from langchain-core!=0.3.0,!=0.3.1,!=0.3.10,!=0.3.11,!=0.3.12,!=0.3.13,!=0.3.14,!=0.3.15,!=0.3.16,!=0.3.17,!=0.3.18,!=0.3.19,!=0.3.2,!=0.3.20,!=0.3.21,!=0.3.22,!=0.3.3,!=0.3.4,!=0.3.5,!=0.3.6,!=0.3.7,!=0.3.8,!=0.3.9,<0.4.0,>=0.2.43->langgraph) (24.2)\n",
            "Requirement already satisfied: msgpack<2.0.0,>=1.1.0 in /usr/local/lib/python3.11/dist-packages (from langgraph-checkpoint<3.0.0,>=2.0.10->langgraph) (1.1.0)\n",
            "Requirement already satisfied: orjson>=3.10.1 in /usr/local/lib/python3.11/dist-packages (from langgraph-sdk<0.2.0,>=0.1.42->langgraph) (3.10.14)\n",
            "Requirement already satisfied: requests-toolbelt<2.0.0,>=1.0.0 in /usr/local/lib/python3.11/dist-packages (from langsmith<0.3,>=0.1.17->langchain) (1.0.0)\n",
            "Requirement already satisfied: annotated-types>=0.6.0 in /usr/local/lib/python3.11/dist-packages (from pydantic<3.0.0,>=2.7.4->langchain) (0.7.0)\n",
            "Requirement already satisfied: pydantic-core==2.27.2 in /usr/local/lib/python3.11/dist-packages (from pydantic<3.0.0,>=2.7.4->langchain) (2.27.2)\n",
            "Requirement already satisfied: charset-normalizer<4,>=2 in /usr/local/lib/python3.11/dist-packages (from requests<3,>=2->langchain) (3.4.1)\n",
            "Requirement already satisfied: urllib3<3,>=1.21.1 in /usr/local/lib/python3.11/dist-packages (from requests<3,>=2->langchain) (2.3.0)\n",
            "Requirement already satisfied: greenlet!=0.4.17 in /usr/local/lib/python3.11/dist-packages (from SQLAlchemy<3,>=1.4->langchain) (3.1.1)\n",
            "Requirement already satisfied: jsonpointer>=1.9 in /usr/local/lib/python3.11/dist-packages (from jsonpatch<2.0,>=1.33->langchain-core!=0.3.0,!=0.3.1,!=0.3.10,!=0.3.11,!=0.3.12,!=0.3.13,!=0.3.14,!=0.3.15,!=0.3.16,!=0.3.17,!=0.3.18,!=0.3.19,!=0.3.2,!=0.3.20,!=0.3.21,!=0.3.22,!=0.3.3,!=0.3.4,!=0.3.5,!=0.3.6,!=0.3.7,!=0.3.8,!=0.3.9,<0.4.0,>=0.2.43->langgraph) (3.0.0)\n"
          ]
        }
      ],
      "source": [
        "!pip install langgraph langchain anthropic langchain-anthropic"
      ]
    },
    {
      "cell_type": "code",
      "source": [
        "import sys , os\n",
        "from typing import Annotated, List\n",
        "from google.colab import drive\n",
        "drive.mount('/content/drive')"
      ],
      "metadata": {
        "colab": {
          "base_uri": "https://localhost:8080/"
        },
        "id": "EoiolksFJ5EC",
        "outputId": "27fb9b1a-9d76-40fe-cbbc-58b6b3b7db38"
      },
      "execution_count": 12,
      "outputs": [
        {
          "output_type": "stream",
          "name": "stdout",
          "text": [
            "Drive already mounted at /content/drive; to attempt to forcibly remount, call drive.mount(\"/content/drive\", force_remount=True).\n"
          ]
        }
      ]
    },
    {
      "cell_type": "markdown",
      "source": [
        "#### Get API Keys"
      ],
      "metadata": {
        "id": "gCgpSd14Ltun"
      }
    },
    {
      "cell_type": "code",
      "source": [
        "sys.path.append(\"/content/drive/MyDrive/Colab Notebooks/\")\n",
        "from api_keys import _api_keys\n",
        "\n",
        "#environment variables\n",
        "os.environ[\"ANTHROPIC_API_KEY\"] = _api_keys[\"ANTHROPIC_API_KEY\"]\n",
        "os.environ[\"LANGSMITH_API_KEY\"] = _api_keys[\"LANGSMITH_API_KEY\"]\n",
        "!export LANGSMITH_TRACING=true\n",
        "\n",
        "#model info\n",
        "ANTHROPIC_MODEL='claude-3-haiku-20240307'"
      ],
      "metadata": {
        "id": "xL22ATR8KAZH"
      },
      "execution_count": 3,
      "outputs": []
    },
    {
      "cell_type": "markdown",
      "source": [
        "### START HERE\n",
        "- https://langchain-ai.github.io/langgraph/#example"
      ],
      "metadata": {
        "id": "w0Lio677L69s"
      }
    },
    {
      "cell_type": "code",
      "source": [
        "from typing import Literal\n",
        "from langchain_anthropic import ChatAnthropic\n",
        "from langchain_core.tools import tool\n",
        "from langgraph.checkpoint.memory import MemorySaver\n",
        "from langgraph.graph import END, START, StateGraph, MessagesState\n",
        "from langgraph.prebuilt import ToolNode"
      ],
      "metadata": {
        "id": "w8iyNg-cL72A"
      },
      "execution_count": 4,
      "outputs": []
    },
    {
      "cell_type": "markdown",
      "source": [
        "### V1: Basic Tool"
      ],
      "metadata": {
        "id": "XpzZv9ctBIHe"
      }
    },
    {
      "cell_type": "code",
      "source": [
        "# Define the tools for the agent to use (can also be defined and used with async)\n",
        "@tool\n",
        "def search(\n",
        "    query: Annotated[str, \"query you want to search the web for\"]\n",
        "    ) -> str:\n",
        "\n",
        "    \"\"\"Call to surf the web.\"\"\"\n",
        "\n",
        "    # This is a placeholder, but don't tell the LLM that...\n",
        "    if \"sf\" in query.lower() or \"san francisco\" in query.lower():\n",
        "        return \"It's 60 degrees and foggy.\"\n",
        "    return \"It's 90 degrees and sunny.\"\n",
        "\n",
        "\n",
        "# Let's inspect some of the attributes associated with the tool.\n",
        "print(search.name)\n",
        "print(search.description)\n",
        "print(search.args)\n",
        "\n",
        "#tool supports parsing of annotations, nested schemas, etc...\n",
        "print(search.args_schema.model_json_schema())"
      ],
      "metadata": {
        "colab": {
          "base_uri": "https://localhost:8080/"
        },
        "id": "aXXp2Ghh1BCi",
        "outputId": "1054ff8a-5c37-4e8f-de9d-05a17d98a402"
      },
      "execution_count": 16,
      "outputs": [
        {
          "output_type": "stream",
          "name": "stdout",
          "text": [
            "search\n",
            "Call to surf the web.\n",
            "{'query': {'description': 'query you want to search the web for', 'title': 'Query', 'type': 'string'}}\n",
            "{'description': 'Call to surf the web.', 'properties': {'query': {'description': 'query you want to search the web for', 'title': 'Query', 'type': 'string'}}, 'required': ['query'], 'title': 'search', 'type': 'object'}\n"
          ]
        }
      ]
    },
    {
      "cell_type": "markdown",
      "source": [
        "### V2: Basic Tool with defined argument schema\n",
        "##### Note: using pydantic model is explicit and simplifys notation required in function associated with schema"
      ],
      "metadata": {
        "id": "tE3nnfKqBN5W"
      }
    },
    {
      "cell_type": "code",
      "source": [
        "from pydantic import BaseModel, Field\n",
        "\n",
        "#define pydantic argument schema to pass to tool for reference\n",
        "class SearchInput(BaseModel):\n",
        "    query: str = Field(description=\"query you want to search the web for\")\n",
        "\n",
        "\n",
        "# Define the tools for the agent to use (can also be defined and used with async)\n",
        "@tool(\"web search tool\", args_schema=SearchInput, return_direct=True)\n",
        "def search(\n",
        "    query: str\n",
        "    ) -> str:\n",
        "\n",
        "    \"\"\"Call to surf the web.\"\"\"\n",
        "\n",
        "    # This is a placeholder, but don't tell the LLM that...\n",
        "    if \"sf\" in query.lower() or \"san francisco\" in query.lower():\n",
        "        return \"It's 60 degrees and foggy.\"\n",
        "    return \"It's 90 degrees and sunny.\"\n",
        "\n",
        "\n",
        "# Let's inspect some of the attributes associated with the tool.\n",
        "print(search.name)\n",
        "print(search.description)\n",
        "print(search.args)\n",
        "\n",
        "#tool supports parsing of annotations, nested schemas, etc...\n",
        "print(search.args_schema.model_json_schema())\n",
        "print(search.return_direct)"
      ],
      "metadata": {
        "colab": {
          "base_uri": "https://localhost:8080/"
        },
        "id": "w-X9T5V_BRQQ",
        "outputId": "74f07ee4-6983-4f0d-9660-a262c096dcca"
      },
      "execution_count": 17,
      "outputs": [
        {
          "output_type": "stream",
          "name": "stdout",
          "text": [
            "web search tool\n",
            "Call to surf the web.\n",
            "{'query': {'description': 'query you want to search the web for', 'title': 'Query', 'type': 'string'}}\n",
            "{'properties': {'query': {'description': 'query you want to search the web for', 'title': 'Query', 'type': 'string'}}, 'required': ['query'], 'title': 'SearchInput', 'type': 'object'}\n",
            "True\n"
          ]
        }
      ]
    },
    {
      "cell_type": "markdown",
      "source": [
        "### V3: Tool defined using StructuredTool.from_function() instead of using @tool decorator\n",
        "\n",
        "Note: StructuredTool class provides more configurability than @tool decorator"
      ],
      "metadata": {
        "id": "AgV-kJuKCbz4"
      }
    },
    {
      "cell_type": "code",
      "source": [
        "from langchain_core.tools import StructuredTool\n",
        "from pydantic import BaseModel, Field\n",
        "\n",
        "#define pydantic argument schema to pass to tool for reference\n",
        "class SearchInput(BaseModel):\n",
        "    query: str = Field(description=\"query you want to search the web for\")\n",
        "\n",
        "\n",
        "def search(\n",
        "    query: str\n",
        "    ) -> str:\n",
        "\n",
        "    \"\"\"Call to surf the web.\"\"\"\n",
        "\n",
        "    # This is a placeholder, but don't tell the LLM that...\n",
        "    if \"sf\" in query.lower() or \"san francisco\" in query.lower():\n",
        "        return \"It's 60 degrees and foggy.\"\n",
        "    return \"It's 90 degrees and sunny.\"\n",
        "\n",
        "async def asearch(\n",
        "    query: str\n",
        "    ) -> str:\n",
        "\n",
        "    \"\"\"Call to surf the web.\"\"\"\n",
        "\n",
        "    # This is a placeholder, but don't tell the LLM that...\n",
        "    if \"sf\" in query.lower() or \"san francisco\" in query.lower():\n",
        "        return \"It's 60 degrees and foggy.\"\n",
        "    return \"It's 90 degrees and sunny.\"\n",
        "\n",
        "#define the tool and its async implementation\n",
        "search_tool = StructuredTool.from_function(\n",
        "    func=search\n",
        "    , name = 'WebSearch Tool'\n",
        "    , description = 'Call to surf the web'\n",
        "    , args_schema=SearchInput\n",
        "    , return_direct=True\n",
        "    , coroutine=asearch)\n",
        "\n",
        "# Let's inspect some of the attributes associated with the tool.\n",
        "print(search_tool.name)\n",
        "print(search_tool.description)\n",
        "print(search_tool.args)\n",
        "\n",
        "#tool supports parsing of annotations, nested schemas, etc...\n",
        "print(search_tool.args_schema.model_json_schema())\n",
        "print(search_tool.return_direct)\n",
        "\n",
        "#INVOKE IT (both sequential and async implementation used in unison)\n",
        "print(search_tool.invoke({\"query\": \"what is the weather in sf\"}))\n",
        "print(await search_tool.ainvoke({\"query\": \"what is the weather in nyc\"}))"
      ],
      "metadata": {
        "colab": {
          "base_uri": "https://localhost:8080/"
        },
        "id": "T_9Ej5soCoSM",
        "outputId": "c023031a-afd0-4086-8eb5-fb1da5eb0d9e"
      },
      "execution_count": 27,
      "outputs": [
        {
          "output_type": "stream",
          "name": "stdout",
          "text": [
            "WebSearch Tool\n",
            "Call to surf the web\n",
            "{'query': {'description': 'query you want to search the web for', 'title': 'Query', 'type': 'string'}}\n",
            "{'properties': {'query': {'description': 'query you want to search the web for', 'title': 'Query', 'type': 'string'}}, 'required': ['query'], 'title': 'SearchInput', 'type': 'object'}\n",
            "True\n",
            "It's 60 degrees and foggy.\n",
            "It's 90 degrees and sunny.\n"
          ]
        }
      ]
    },
    {
      "cell_type": "code",
      "source": [
        "#tools available for use\n",
        "tools = [search]\n",
        "\n",
        "#TOOL NODE\n",
        "#This node acts as a bridge between the language model and the available tools.\n",
        "#The state MUST contain a list of messages.\n",
        "#The last message MUST be an `AIMessage`.\n",
        "#The `AIMessage` MUST have `tool_calls` populated.\n",
        "tool_node = ToolNode(tools)\n",
        "\n",
        "#model to use in langraph calls\n",
        "#bind_tools() ensures the model knows that is has tools available\n",
        "model = ChatAnthropic(model=ANTHROPIC_MODEL\n",
        ", temperature=0).bind_tools(tools)"
      ],
      "metadata": {
        "id": "7Nlx1EBs2Rd1"
      },
      "execution_count": 6,
      "outputs": []
    },
    {
      "cell_type": "code",
      "source": [
        "# Define the function that determines whether to call a tool or return a message to the user\n",
        "# aka determines weather to continue or not\n",
        "def should_continue(state: MessagesState) -> Literal[\"tools\", END]:\n",
        "\n",
        "    #get last message\n",
        "    messages = state['messages']\n",
        "    last_message = messages[-1]\n",
        "\n",
        "    # If the LLM makes a tool call, then we route to the \"tools\" node\n",
        "    if last_message.tool_calls:\n",
        "        return \"tools\"\n",
        "\n",
        "    # Otherwise, we stop (reply to the user)\n",
        "    return END\n",
        "\n",
        "# Define the function that calls the model\n",
        "def call_model(state: MessagesState):\n",
        "    messages = state['messages']\n",
        "    response = model.invoke(messages)\n",
        "    # We return a list, because this will get added to the existing list\n",
        "    return {\"messages\": [response]}"
      ],
      "metadata": {
        "id": "Puv21QLL3JEZ"
      },
      "execution_count": 7,
      "outputs": []
    },
    {
      "cell_type": "code",
      "source": [
        "\n",
        "# Define a new graph\n",
        "# NOTE: MessagesState is a prebuilt state schema that has one attribute\n",
        "# -- a list of LangChain Message objects, as well as logic for merging\n",
        "# the updates from each node into the state.\n",
        "workflow = StateGraph(MessagesState)\n",
        "\n",
        "# Define the two nodes we will cycle between\n",
        "workflow.add_node(\"agent\", call_model) #agent, determines what (if any) actions to take\n",
        "workflow.add_node(\"tools\", tool_node) #tools, invokes tools if the agent decides to take an action\n",
        "\n",
        "# Set the entrypoint as `agent`\n",
        "# This means that this node is the first one called\n",
        "workflow.add_edge(START, \"agent\")\n",
        "\n",
        "# We now add a conditional edge (make a decision)\n",
        "workflow.add_conditional_edges(\n",
        "    # First, we define the start node. We use `agent`.\n",
        "    # This means these are the edges taken after the `agent` node is called.\n",
        "    \"agent\",\n",
        "    # Next, we pass in the function that will determine which node is called next.\n",
        "    should_continue,\n",
        ")\n",
        "\n",
        "# We now add a normal edge from `tools` to `agent`. (dont make a decision, do what i say)\n",
        "# This means that after `tools` is called, `agent` node is called next.\n",
        "workflow.add_edge(\"tools\", 'agent')\n",
        "\n",
        "# Initialize memory to persist state between graph runs\n",
        "checkpointer = MemorySaver()\n",
        "\n",
        "# Finally, we compile it!\n",
        "# This compiles it into a LangChain Runnable,\n",
        "# meaning you can use it as you would any other runnable.\n",
        "# Note that we're (optionally) passing the memory when compiling the graph\n",
        "app = workflow.compile(checkpointer=checkpointer)\n",
        "\n",
        "# Use the agent\n",
        "# input_data: messages -> dictionary proviing the initital input to the workflow, (here we simulate a user asking a question that invokes a dummy tool)\n",
        "# config: dictionary providing settings to run with workflow. here thread_id is useful for tracking or managing multiple conversations\n",
        "final_state = app.invoke(\n",
        "    {\"messages\": [{\"role\": \"user\", \"content\": \"what is the weather in sf\"}]},\n",
        "    config={\"configurable\": {\"thread_id\": 42}}\n",
        ")\n",
        "final_state[\"messages\"][-1].content"
      ],
      "metadata": {
        "colab": {
          "base_uri": "https://localhost:8080/",
          "height": 36
        },
        "id": "PHrhFsSp5EUQ",
        "outputId": "ba2f78e3-e308-4b26-fe36-32697b7b7142"
      },
      "execution_count": 8,
      "outputs": [
        {
          "output_type": "execute_result",
          "data": {
            "text/plain": [
              "'The current weather in San Francisco is 60 degrees Fahrenheit with foggy conditions.'"
            ],
            "application/vnd.google.colaboratory.intrinsic+json": {
              "type": "string"
            }
          },
          "metadata": {},
          "execution_count": 8
        }
      ]
    },
    {
      "cell_type": "code",
      "source": [],
      "metadata": {
        "id": "JcjqpNwo7ph4"
      },
      "execution_count": null,
      "outputs": []
    }
  ],
  "metadata": {
    "kernelspec": {
      "display_name": "langy2",
      "language": "python",
      "name": "python3"
    },
    "language_info": {
      "codemirror_mode": {
        "name": "ipython",
        "version": 3
      },
      "file_extension": ".py",
      "mimetype": "text/x-python",
      "name": "python",
      "nbconvert_exporter": "python",
      "pygments_lexer": "ipython3",
      "version": "3.10.12"
    },
    "colab": {
      "provenance": []
    }
  },
  "nbformat": 4,
  "nbformat_minor": 0
}